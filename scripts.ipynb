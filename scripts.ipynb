{
 "cells": [
  {
   "cell_type": "code",
   "execution_count": null,
   "id": "initial_id",
   "metadata": {
    "collapsed": true
   },
   "outputs": [],
   "source": [
    "# Чтобы перезаписать все csv файлы из папки в один файл\n",
    "\n",
    "import os\n",
    "\n",
    "directory = os.fsencode(\"weather_of_zip_codes_at_date\")\n",
    "with open('weather_of_zip_codes_at_date.csv', 'a') as all_data_f:\n",
    "    all_data_f.write(\",zip_code,date,time,temperature,humidity,wind_speed\\n\")\n",
    "    for file in os.listdir(directory):\n",
    "        filename = os.fsdecode(file)\n",
    "        if filename.endswith(\".csv\"):\n",
    "            with open(f'weather_of_zip_codes_at_date/{filename}', 'r') as one_data_f:\n",
    "                next(one_data_f)\n",
    "                all_data_f.write(one_data_f.read())\n",
    "            continue\n",
    "        else:\n",
    "            continue"
   ]
  },
  {
   "metadata": {},
   "cell_type": "code",
   "outputs": [],
   "execution_count": null,
   "source": [
    "# Чтобы посмотреть какие станции используются\n",
    "\n",
    "import csv\n",
    "\n",
    "filename = 'data/station_of_zip_code.csv'\n",
    "station_set = set()\n",
    "with open(filename, 'r') as file:\n",
    "    reader = csv.reader(file)\n",
    "    next(reader)  # Пропускаем заголовок\n",
    "    for row in reader:\n",
    "        station_set.add(row[1])  # Добавляем значение из второй колонки в set\n",
    "\n",
    "print(station_set)\n"
   ],
   "id": "c5538c0e34638989"
  }
 ],
 "metadata": {
  "kernelspec": {
   "display_name": "Python 3",
   "language": "python",
   "name": "python3"
  },
  "language_info": {
   "codemirror_mode": {
    "name": "ipython",
    "version": 2
   },
   "file_extension": ".py",
   "mimetype": "text/x-python",
   "name": "python",
   "nbconvert_exporter": "python",
   "pygments_lexer": "ipython2",
   "version": "2.7.6"
  }
 },
 "nbformat": 4,
 "nbformat_minor": 5
}
